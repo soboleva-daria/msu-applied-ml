{
 "cells": [
  {
   "cell_type": "markdown",
   "metadata": {},
   "source": [
    "# Улучшенный бенчмарк\n",
    "\n",
    "Для задачи **Digital Reputation Challenge**\n",
    "\n",
    "https://boosters.pro\n",
    "\n",
    "автор: Дарья Соболева"
   ]
  },
  {
   "cell_type": "code",
   "execution_count": 1,
   "metadata": {},
   "outputs": [
    {
     "name": "stderr",
     "output_type": "stream",
     "text": [
      "//anaconda3/lib/python3.7/site-packages/lightgbm/__init__.py:46: UserWarning: Starting from version 2.2.1, the library file in distribution wheels for macOS is built by the Apple Clang (Xcode_8.3.3) compiler.\n",
      "This means that in case of installing LightGBM from PyPI via the ``pip install lightgbm`` command, you don't need to install the gcc compiler anymore.\n",
      "Instead of that, you need to install the OpenMP library, which is required for running LightGBM on the system with the Apple Clang compiler.\n",
      "You can install the OpenMP library by the following command: ``brew install libomp``.\n",
      "  \"You can install the OpenMP library by the following command: ``brew install libomp``.\", UserWarning)\n"
     ]
    }
   ],
   "source": [
    "import numpy as np\n",
    "import pandas as pd\n",
    "import matplotlib\n",
    "import matplotlib.pyplot as plt\n",
    "\n",
    "from sklearn.model_selection import KFold\n",
    "from sklearn.metrics import roc_auc_score\n",
    "import lightgbm as lgb\n",
    "\n",
    "%matplotlib inline"
   ]
  },
  {
   "cell_type": "markdown",
   "metadata": {},
   "source": [
    "## загрузка данных"
   ]
  },
  {
   "cell_type": "code",
   "execution_count": 29,
   "metadata": {},
   "outputs": [
    {
     "name": "stdout",
     "output_type": "stream",
     "text": [
      "(4000, 26) (462888, 2) (4000, 453) (4000, 6)\n"
     ]
    }
   ],
   "source": [
    "TRAIN_PATH = 'train/'\n",
    "X1 = pd.read_csv(TRAIN_PATH + 'X1.csv')\n",
    "X2 = pd.read_csv(TRAIN_PATH + 'X2.csv')\n",
    "X3 = pd.read_csv(TRAIN_PATH + 'X3.csv')\n",
    "Y = pd.read_csv(TRAIN_PATH + 'Y.csv')\n",
    "print (X1.shape, X2.shape, X3.shape, Y.shape)"
   ]
  },
  {
   "cell_type": "code",
   "execution_count": 30,
   "metadata": {},
   "outputs": [],
   "source": [
    "Y.columns = ['Y' + s if s != 'id' else 'id' for s in Y.columns]"
   ]
  },
  {
   "cell_type": "code",
   "execution_count": 31,
   "metadata": {},
   "outputs": [
    {
     "name": "stdout",
     "output_type": "stream",
     "text": [
      "(4058, 26) (470083, 2) (4058, 453)\n"
     ]
    }
   ],
   "source": [
    "TEST_PATH = 'test/'\n",
    "X1_test = pd.read_csv(TEST_PATH + 'X1.csv')\n",
    "X2_test = pd.read_csv(TEST_PATH + 'X2.csv')\n",
    "X3_test = pd.read_csv(TEST_PATH + 'X3.csv')\n",
    "print (X1_test.shape, X2_test.shape, X3_test.shape)"
   ]
  },
  {
   "cell_type": "code",
   "execution_count": 5,
   "metadata": {},
   "outputs": [],
   "source": [
    "X2_all = pd.concat([X2, X2_test], axis=0)\n",
    "\n",
    "X2_user_ids, X2_counts = np.unique(X2_all['id'], return_counts=True)\n",
    "url_count = np.hstack((X2_user_ids.reshape(-1, 1), X2_counts.reshape(-1, 1)))\n",
    "url_count_df = pd.DataFrame(data=url_count, columns=['id', 'Counter'])\n",
    "\n",
    "X1 = X1.merge(url_count_df, on='id', how='left')\n",
    "X1_test = X1_test.merge(url_count_df, on='id', how='left')"
   ]
  },
  {
   "cell_type": "code",
   "execution_count": 70,
   "metadata": {},
   "outputs": [
    {
     "data": {
      "image/png": "[encoded data removed]",
      "text/plain": [
       "<Figure size 1440x720 with 1 Axes>"
      ]
     },
     "metadata": {
      "needs_background": "light"
     },
     "output_type": "display_data"
    }
   ],
   "source": [
    "warnings.simplefilter(action='ignore', category=FutureWarning)\n",
    "\n",
    "model = RandomForestClassifier(n_estimators=1000, n_jobs=-1)\n",
    "model.fit(X1[X1.columns.difference(['id', 'Counter'])], y1)\n",
    "\n",
    "feature_imp = pd.DataFrame(sorted(zip(model.feature_importances_, X1.columns.difference(['id', 'Counter'])))[-20:], columns=['Value','Feature'])\n",
    "\n",
    "feature_imp = feature_imp.sort_values(by=\"Value\", ascending=False)\n",
    "\n",
    "\n",
    "plt.figure(figsize=(20, 10))\n",
    "\n",
    "sns.barplot(x=\"Value\", y=\"Feature\", data=feature_imp, orient='h')\n",
    "\n",
    "plt.tight_layout()\n",
    "plt.show()"
   ]
  },
  {
   "cell_type": "code",
   "execution_count": 32,
   "metadata": {
    "scrolled": true
   },
   "outputs": [
    {
     "name": "stdout",
     "output_type": "stream",
     "text": [
      "Y1\n",
      "6\n",
      "8\n",
      "4\n",
      "6\n",
      "8\n",
      "4\n",
      "Y2\n",
      "6\n",
      "8\n",
      "4\n",
      "6\n",
      "8\n",
      "4\n",
      "Y3\n",
      "6\n",
      "8\n",
      "4\n",
      "6\n",
      "8\n",
      "4\n",
      "Y4\n",
      "6\n",
      "8\n",
      "4\n",
      "6\n",
      "8\n",
      "4\n",
      "Y5\n",
      "6\n",
      "8\n",
      "4\n",
      "6\n",
      "8\n",
      "4\n",
      "Y1\n",
      "6\n",
      "8\n",
      "4\n",
      "6\n",
      "8\n",
      "4\n",
      "Y2\n",
      "6\n",
      "8\n",
      "4\n",
      "6\n",
      "8\n",
      "4\n",
      "Y3\n",
      "6\n",
      "8\n",
      "4\n",
      "6\n",
      "8\n",
      "4\n",
      "Y4\n",
      "6\n",
      "8\n",
      "4\n",
      "6\n",
      "8\n",
      "4\n",
      "Y5\n",
      "6\n",
      "8\n",
      "4\n",
      "6\n",
      "8\n",
      "4\n",
      "Y1\n",
      "6\n",
      "8\n",
      "4\n",
      "6\n",
      "8\n",
      "4\n",
      "Y2\n",
      "6\n",
      "8\n",
      "4\n",
      "6\n",
      "8\n",
      "4\n",
      "Y3\n",
      "6\n",
      "8\n",
      "4\n",
      "6\n",
      "8\n",
      "4\n",
      "Y4\n",
      "6\n",
      "8\n",
      "4\n",
      "6\n",
      "8\n",
      "4\n",
      "Y5\n",
      "6\n",
      "8\n",
      "4\n",
      "6\n",
      "8\n",
      "4\n",
      "Y1\n",
      "6\n",
      "8\n",
      "4\n",
      "6\n",
      "8\n",
      "4\n",
      "Y2\n",
      "6\n",
      "8\n",
      "4\n",
      "6\n",
      "8\n",
      "4\n",
      "Y3\n",
      "6\n",
      "8\n",
      "4\n",
      "6\n",
      "8\n",
      "4\n",
      "Y4\n",
      "6\n",
      "8\n",
      "4\n",
      "6\n",
      "8\n",
      "4\n",
      "Y5\n",
      "6\n",
      "8\n",
      "4\n",
      "6\n",
      "8\n",
      "4\n"
     ]
    }
   ],
   "source": [
    "import matplotlib.pyplot as plt\n",
    "import seaborn as sns\n",
    "import warnings\n",
    "from sklearn.ensemble import RandomForestClassifier\n",
    "\n",
    "def get_and_plot_important_features(X, y, verbose=False, n=1):\n",
    "    warnings.simplefilter(action='ignore', category=FutureWarning)\n",
    "\n",
    "    model = RandomForestClassifier(n_estimators=1000, n_jobs=-1)\n",
    "    model.fit(X[X.columns.difference(['id', 'Counter'])], y)\n",
    "\n",
    "    feature_imp = pd.DataFrame(sorted(zip(model.feature_importances_, X.columns.difference(['id', 'Counter'])))[-10:], columns=['Value','Feature'])\n",
    "\n",
    "    feature_imp = feature_imp.sort_values(by=\"Value\", ascending=False)\n",
    "    \n",
    "    if verbose:\n",
    "        plt.figure(figsize=(20, 10))\n",
    "\n",
    "        sns.barplot(x=\"Value\", y=\"Feature\", data=feature_imp, orient='h')\n",
    "\n",
    "        plt.tight_layout()\n",
    "        plt.show()\n",
    "    #return [feature_imp.Feature.iloc[0]]\n",
    "    return list(feature_imp.Feature[:n])\n",
    "    \n",
    "\n",
    "def stat_imp_features(imp_features, cls, X, X_test, f):\n",
    "    X_all = pd.concat([X, X_test], axis=0)\n",
    "    \n",
    "    X_f_counts = X[f].value_counts().to_frame()\n",
    "    X_f_counts = X_f_counts.reset_index()\n",
    "    X_f_counts.columns = [f, 'Count']\n",
    "\n",
    "    X_f_counts_filtered = X_f_counts[X_f_counts.Count > 25]\n",
    "    cols = list(set(X1.columns) & set(imp_features1))\n",
    "    X_merged = pd.merge(X[X.columns.difference(cols)], X_f_counts_filtered, how='right', on=f)\n",
    "    X_merged = pd.merge(X_merged, X1[['id'] + imp_features], how='left', on='id')\n",
    "    \n",
    "    funcs = [np.mean, np.sum] # np.median#[np.mean, np.max, np.min, np.std]\n",
    "    \n",
    "    grouped_f = X_merged.groupby(f)\n",
    "\n",
    "    X_all = X_all.set_index(f)\n",
    "    \n",
    "    print(cls)\n",
    "    for imp_feature in imp_features:\n",
    "        print(imp_feature)\n",
    "        \n",
    "        for func in funcs:\n",
    "            #print(func.__name__)\n",
    "            stat = grouped_f[imp_feature].apply(lambda x: func(x))\n",
    "            #return X2_all, stat\n",
    "            #print(func, imp_feature)\n",
    "            X_all['{}_{}'.format(imp_feature, func.__name__)] = stat\n",
    "        \n",
    "    X_all = X_all.reset_index()\n",
    "    grouped_id = X_all.groupby('id')\n",
    "    \n",
    "    res = X_all[['id']].drop_duplicates().set_index('id')\n",
    "    imp_features1_list = []\n",
    "    \n",
    "    for imp_feature in imp_features:\n",
    "        print(imp_feature)\n",
    "        for func1 in funcs:\n",
    "            for func2 in funcs:\n",
    "                #print(imp_feature, func1.__name__, func2.__name__)\n",
    "                stat_stat = grouped_id['{}_{}'.format(imp_feature, func1.__name__)].apply(lambda x: func2(x))\n",
    "                f = '{}_{}_{}_{}_{}'.format(imp_feature, func1.__name__, func2.__name__, cls, f)\n",
    "                res[f] = stat_stat\n",
    "                imp_features1_list.append(f)\n",
    "        \n",
    "    return res.reset_index(), imp_features1_list\n",
    "    \n",
    "X = X1.merge(Y)\n",
    "\n",
    "id_ = X.pop('id')\n",
    "y1 = X.pop('Y1')\n",
    "y2 = X.pop('Y2')\n",
    "y3 = X.pop('Y3')\n",
    "y4 = X.pop('Y4')\n",
    "y5 = X.pop('Y5')\n",
    "\n",
    "# model1 = lgb.LGBMClassifier(learning_rate=0.01, num_leaves=12,\n",
    "#                             n_estimators=290,\n",
    "#                             colsample_bytree=0.75, subsample=0.75, random_state=0, n_jobs=-1)\n",
    "\n",
    "imp_features1 = get_and_plot_important_features(X, y1, verbose=False, n=3)\n",
    "#imp_features1 += ['5', '7', '3', 'Counter']\n",
    "statA_imp_features1, impA_features1 = stat_imp_features(imp_features1, 'Y1', X2, X2_test, 'A')\n",
    "\n",
    "imp_features2 = get_and_plot_important_features(X, y2, verbose=False, n=3)\n",
    "#imp_features2 += ['5', '7', '3', 'Counter']\n",
    "statA_imp_features2, impA_features2 = stat_imp_features(imp_features2, 'Y2', X2, X2_test, 'A')\n",
    "\n",
    "imp_features3 = get_and_plot_important_features(X, y3, verbose=False, n=3)\n",
    "#imp_features3 += ['5', '7', '3', 'Counter']\n",
    "statA_imp_features3, impA_features3 = stat_imp_features(imp_features3, 'Y3', X2, X2_test, 'A')\n",
    "\n",
    "imp_features4 = get_and_plot_important_features(X, y4, verbose=False, n=3)\n",
    "#imp_features4 += ['5', '7', '3', 'Counter']\n",
    "statA_imp_features4, impA_features4 = stat_imp_features(imp_features4, 'Y4', X2, X2_test, 'A')\n",
    "\n",
    "imp_features5 = get_and_plot_important_features(X, y5, verbose=False, n=3)\n",
    "#imp_features5 += ['5', '7', '3', 'Counter']\n",
    "statA_imp_features5, impA_features5 = stat_imp_features(imp_features5, 'Y5', X2, X2_test, 'A')\n",
    "\n",
    "\n",
    "\n",
    "stat1_imp_features1, imp1_features1 = stat_imp_features(imp_features1, 'Y1', X1, X1_test, '1')\n",
    "stat1_imp_features2, imp1_features2 = stat_imp_features(imp_features2, 'Y2', X1, X1_test, '1')\n",
    "stat1_imp_features3, imp1_features3 = stat_imp_features(imp_features3, 'Y3', X1, X1_test, '1')\n",
    "stat1_imp_features4, imp1_features4 = stat_imp_features(imp_features4, 'Y4', X1, X1_test, '1')\n",
    "stat1_imp_features5, imp1_features5 = stat_imp_features(imp_features5, 'Y5', X1, X1_test, '1')\n",
    "\n",
    "stat13_imp_features1, imp13_features1 = stat_imp_features(imp_features1, 'Y1', X1, X1_test, '13')\n",
    "stat13_imp_features2, imp13_features2 = stat_imp_features(imp_features2, 'Y2', X1, X1_test, '13')\n",
    "stat13_imp_features3, imp13_features3 = stat_imp_features(imp_features3, 'Y3', X1, X1_test, '13')\n",
    "stat13_imp_features4, imp13_features4 = stat_imp_features(imp_features4, 'Y4', X1, X1_test, '13')\n",
    "stat13_imp_features5, imp13_features5 = stat_imp_features(imp_features5, 'Y5', X1, X1_test, '13')\n",
    "\n",
    "stat22_imp_features1, imp22_features1 = stat_imp_features(imp_features1, 'Y1', X1, X1_test, '22')\n",
    "stat22_imp_features2, imp22_features2 = stat_imp_features(imp_features2, 'Y2', X1, X1_test, '22')\n",
    "stat22_imp_features3, imp22_features3 = stat_imp_features(imp_features3, 'Y3', X1, X1_test, '22')\n",
    "stat22_imp_features4, imp22_features4 = stat_imp_features(imp_features4, 'Y4', X1, X1_test, '22')\n",
    "stat22_imp_features5, imp22_features5 = stat_imp_features(imp_features5, 'Y5', X1, X1_test, '22')"
   ]
  },
  {
   "cell_type": "code",
   "execution_count": 16,
   "metadata": {},
   "outputs": [],
   "source": [
    "# filter on popularity\n",
    "\n",
    "X2_all = X2.append(X2_test)\n",
    "\n",
    "A_top_100 = X2_all.A.value_counts()[:20].to_frame()\n",
    "A_top_100 = A_top_100.reset_index()\n",
    "A_top_100.columns = ['A', 'count']\n",
    "\n",
    "X2_top_100 = X2_all.merge(A_top_100, on='A', how='inner')\n",
    "X2_top_100_dummies = pd.get_dummies(X2_top_100[['id', 'A']], columns=['A'])\n",
    "X2_top_100_dummies = X2_top_100_dummies.groupby('id').sum().reset_index()"
   ]
  },
  {
   "cell_type": "code",
   "execution_count": 33,
   "metadata": {},
   "outputs": [],
   "source": [
    "# filter on Y\n",
    "def get_filtered_dummies(X2_Y, target):\n",
    "    Y_A_count_class = X2_Y[X2_Y[target] == 1].groupby('A').size().to_frame()\n",
    "    Y_A_count_class = Y_A_count_class.reset_index()\n",
    "    Y_A_count_class.columns = ['A', 'count_class_1']\n",
    "    Y_A_count_filtered = Y_A_count_class[Y_A_count_class.count_class_1 >= 25]\n",
    "\n",
    "    Y_A_count = X2_Y.groupby('A').size().to_frame()\n",
    "    Y_A_count = Y_A_count.reset_index()\n",
    "    Y_A_count.columns = ['A', 'count']\n",
    "    Y_A_count_filtered = Y_A_count_filtered.merge(Y_A_count, on='A', how='left')\n",
    "    Y_A_count_filtered['ctr_count'] = Y_A_count_filtered['count_class_1'] / Y_A_count_filtered['count'] \n",
    "\n",
    "\n",
    "    A_top_100_left = Y_A_count_filtered.sort_values('ctr_count', ascending=False)[:30]\n",
    "    A_top_100_right = Y_A_count_filtered.sort_values('ctr_count', ascending=False)[-30:]\n",
    "    A_top_100 = pd.concat([A_top_100_left, A_top_100_right], axis=0)\n",
    "    A_top_100 = A_top_100[['A', 'ctr_count']]\n",
    "\n",
    "    X2_top_100 = X2.merge(A_top_100, on='A', how='inner')\n",
    "    X2_top_100_dummies = pd.get_dummies(X2_top_100[['id', 'A']], columns=['A'], prefix_sep='_' + target + '_')\n",
    "    X2_top_100_dummies = X2_top_100_dummies.groupby('id').sum().reset_index()\n",
    "    \n",
    "    X2_test_top_100 = X2_test.merge(A_top_100, on='A', how='inner')\n",
    "    X2_test_top_100_dummies = pd.get_dummies(X2_test_top_100[['id', 'A']], columns=['A'], prefix_sep='_' + target + '_')\n",
    "    X2_test_top_100_dummies = X2_test_top_100_dummies.groupby('id').sum().reset_index()\n",
    "    \n",
    "    features = list(X2_top_100_dummies.columns.difference(['id']))\n",
    "    return X2_top_100_dummies, X2_test_top_100_dummies, features\n",
    "    \n",
    "X2_Y = X2.merge(Y, how='left', on='id')\n",
    "\n",
    "X2_top_100_dummies1, X2_test_top_100_dummies1, features1 = get_filtered_dummies(X2_Y, 'Y1')\n",
    "X2_top_100_dummies2, X2_test_top_100_dummies2, features2 = get_filtered_dummies(X2_Y, 'Y2')\n",
    "X2_top_100_dummies3, X2_test_top_100_dummies3, features3 = get_filtered_dummies(X2_Y, 'Y3')\n",
    "X2_top_100_dummies4, X2_test_top_100_dummies4, features4 = get_filtered_dummies(X2_Y, 'Y4')\n",
    "X2_top_100_dummies5, X2_test_top_100_dummies5, features5 = get_filtered_dummies(X2_Y, 'Y5')"
   ]
  },
  {
   "cell_type": "code",
   "execution_count": 6,
   "metadata": {},
   "outputs": [],
   "source": [
    "# count user\n",
    "\n",
    "X2_user_count = X2_all.id.value_counts().to_frame()\n",
    "X2_user_count = X2_user_count.reset_index()\n",
    "X2_user_count.columns = ['id', 'count']"
   ]
  },
  {
   "cell_type": "markdown",
   "metadata": {},
   "source": [
    "# Подготовка обучения и теста\n",
    "\n",
    "используем только матрицу 1"
   ]
  },
  {
   "cell_type": "code",
   "execution_count": 34,
   "metadata": {},
   "outputs": [],
   "source": [
    "X = X1.copy()\n",
    "base_features = list(X.columns.difference(['id']))\n",
    "\n",
    "X = X.merge(statA_imp_features1, on='id', how='left')\n",
    "X = X.merge(statA_imp_features2, on='id', how='left')\n",
    "X = X.merge(statA_imp_features3, on='id', how='left')\n",
    "X = X.merge(statA_imp_features4, on='id', how='left')\n",
    "X = X.merge(statA_imp_features5, on='id', how='left')\n",
    "\n",
    "X = X.merge(stat22_imp_features1, on='id', how='left')\n",
    "X = X.merge(stat22_imp_features2, on='id', how='left')\n",
    "X = X.merge(stat22_imp_features3, on='id', how='left')\n",
    "X = X.merge(stat22_imp_features4, on='id', how='left')\n",
    "X = X.merge(stat22_imp_features5, on='id', how='left')\n",
    "\n",
    "X = X.merge(stat1_imp_features1, on='id', how='left')\n",
    "X = X.merge(stat1_imp_features2, on='id', how='left')\n",
    "X = X.merge(stat1_imp_features3, on='id', how='left')\n",
    "X = X.merge(stat1_imp_features4, on='id', how='left')\n",
    "X = X.merge(stat1_imp_features5, on='id', how='left')\n",
    "\n",
    "X = X.merge(stat13_imp_features1, on='id', how='left')\n",
    "X = X.merge(stat13_imp_features2, on='id', how='left')\n",
    "X = X.merge(stat13_imp_features3, on='id', how='left')\n",
    "X = X.merge(stat13_imp_features4, on='id', how='left')\n",
    "X = X.merge(stat13_imp_features5, on='id', how='left')\n",
    "\n",
    "X = X.merge(X2_top_100_dummies1, on='id', how='left')\n",
    "X = X.merge(X2_top_100_dummies2, on='id', how='left')\n",
    "X = X.merge(X2_top_100_dummies3, on='id', how='left')\n",
    "X = X.merge(X2_top_100_dummies4, on='id', how='left')\n",
    "X = X.merge(X2_top_100_dummies5, on='id', how='left')\n",
    "\n",
    "X.fillna(0.0, inplace=True, axis=0)\n",
    "#X = X.merge(X2_user_count, on='id', how='left')\n",
    "\n",
    "X = X.merge(Y)\n",
    "\n",
    "id_ = X.pop('id')\n",
    "y1 = X.pop('Y1')\n",
    "y2 = X.pop('Y2')\n",
    "y3 = X.pop('Y3')\n",
    "y4 = X.pop('Y4')\n",
    "y5 = X.pop('Y5')\n",
    "\n",
    "X_test = X1_test.copy()\n",
    "\n",
    "X_test = X_test.merge(statA_imp_features1, on='id', how='left')\n",
    "X_test = X_test.merge(statA_imp_features2, on='id', how='left')\n",
    "X_test = X_test.merge(statA_imp_features3, on='id', how='left')\n",
    "X_test = X_test.merge(statA_imp_features4, on='id', how='left')\n",
    "X_test = X_test.merge(statA_imp_features5, on='id', how='left')\n",
    "\n",
    "X_test = X_test.merge(stat22_imp_features1, on='id', how='left')\n",
    "X_test = X_test.merge(stat22_imp_features2, on='id', how='left')\n",
    "X_test = X_test.merge(stat22_imp_features3, on='id', how='left')\n",
    "X_test = X_test.merge(stat22_imp_features4, on='id', how='left')\n",
    "X_test = X_test.merge(stat22_imp_features5, on='id', how='left')\n",
    "\n",
    "X_test = X_test.merge(stat1_imp_features1, on='id', how='left')\n",
    "X_test = X_test.merge(stat1_imp_features2, on='id', how='left')\n",
    "X_test = X_test.merge(stat1_imp_features3, on='id', how='left')\n",
    "X_test = X_test.merge(stat1_imp_features4, on='id', how='left')\n",
    "X_test = X_test.merge(stat1_imp_features5, on='id', how='left')\n",
    "\n",
    "X_test = X_test.merge(stat13_imp_features1, on='id', how='left')\n",
    "X_test = X_test.merge(stat13_imp_features2, on='id', how='left')\n",
    "X_test = X_test.merge(stat13_imp_features3, on='id', how='left')\n",
    "X_test = X_test.merge(stat13_imp_features4, on='id', how='left')\n",
    "X_test = X_test.merge(stat13_imp_features5, on='id', how='left')\n",
    "\n",
    "X_test = X_test.merge(X2_test_top_100_dummies1, on='id', how='left')\n",
    "X_test = X_test.merge(X2_test_top_100_dummies2, on='id', how='left')\n",
    "X_test = X_test.merge(X2_test_top_100_dummies3, on='id', how='left')\n",
    "X_test = X_test.merge(X2_test_top_100_dummies4, on='id', how='left')\n",
    "X_test = X_test.merge(X2_test_top_100_dummies5, on='id', how='left')\n",
    "\n",
    "X_test.fillna(0.0, inplace=True, axis=0)\n",
    "\n",
    "# X_test = X_test.merge(X2_user_count, on='id', how='left')\n",
    "\n",
    "id__ = X_test.pop('id')"
   ]
  },
  {
   "cell_type": "markdown",
   "metadata": {},
   "source": [
    "### Эксперименты\n",
    "\n",
    "делаются так..."
   ]
  },
  {
   "cell_type": "code",
   "execution_count": 35,
   "metadata": {},
   "outputs": [],
   "source": [
    "from sklearn.model_selection import KFold\n",
    "from sklearn.metrics import roc_auc_score\n",
    "import lightgbm as lgb\n",
    "\n",
    "\n",
    "def colsample_fit(X_train, y_train, X_test, param, random_state):\n",
    "    final_pred = []\n",
    "    w = [0.4, 0.5, 0.7, 0.8, 0.9]\n",
    "    for colsample_bytree in w:\n",
    "        param['colsample_bytree'] = colsample_bytree\n",
    "        estimator = lgb.LGBMClassifier(**param, n_jobs=-1, random_state=random_state)\n",
    "        estimator.fit(X_train.values, y_train.values)\n",
    "        pred_statement = estimator.predict_proba(X_test.values)[:, 1]\n",
    "        final_pred.append(pred_statement)\n",
    "        \n",
    "    final_pred = np.sum(np.array(final_pred).T * np.array(w), axis=1) / np.sum(w)\n",
    "    param['colsample_bytree'] = 0.75\n",
    "    estimator = lgb.LGBMClassifier(**param, n_jobs=-1, random_state=random_state)\n",
    "    estimator.fit(X_train.values, y_train.values)\n",
    "    pred_statement = estimator.predict_proba(X_test.values)[:, 1]\n",
    "    final_pred = (np.array(final_pred) + pred_statement) / 2.0\n",
    "    return final_pred\n",
    "\n",
    "def cv_default(param, X, y, n_splits=10, random_state=0):\n",
    "    estimator = lgb.LGBMClassifier(**param, n_jobs=-1, random_state=random_state)\n",
    "    \n",
    "    cv = KFold(n_splits=n_splits, shuffle=False, random_state=random_state)\n",
    "    cv_iter = list(cv.split(X, y))\n",
    "    \n",
    "    scores = []\n",
    "\n",
    "    for train, test in cv_iter:\n",
    "        estimator.fit(X.iloc[train, :].values, y.iloc[train].values)\n",
    "        \n",
    "        y_statement = y.iloc[test]\n",
    "        pred_statement = estimator.predict_proba(X.iloc[test, :].values)[:, 1]\n",
    "        \n",
    "        #pred_statement = colsample_fit(X.iloc[train, :], y.iloc[train], X.iloc[test, :], param, random_state)\n",
    "        scores.append(roc_auc_score(y_statement, pred_statement))\n",
    "        \n",
    "    return np.mean(np.array(scores))\n",
    "\n",
    "def cv(param, X, y, nfold=50, random_state=0):\n",
    "    w = lgb.cv(param, lgb.Dataset(X, label=y), stratified=False,\n",
    "           num_boost_round=1000, nfold=nfold, seed=random_state) \n",
    "    return max(w['auc-mean'])"
   ]
  },
  {
   "cell_type": "code",
   "execution_count": 9,
   "metadata": {},
   "outputs": [
    {
     "name": "stderr",
     "output_type": "stream",
     "text": [
      "//anaconda3/lib/python3.7/site-packages/lightgbm/engine.py:430: UserWarning: Found `n_estimators` in params. Will use it instead of argument\n",
      "  warnings.warn(\"Found `{}` in params. Will use it instead of argument\".format(alias))\n"
     ]
    },
    {
     "name": "stdout",
     "output_type": "stream",
     "text": [
      "{'n_estimators': 1000, 'num_leaves': 8, 'objective': 'binary', 'learning_rate': 0.05, 'colsample_bytree': 1.0, 'subsample': 0.25, 'metric': 'auc'}\n",
      "{'n_estimators': 1000, 'num_leaves': 4, 'objective': 'binary', 'learning_rate': 0.05, 'colsample_bytree': 1.0, 'subsample': 0.25, 'metric': 'auc'}\n",
      "{'n_estimators': 1000, 'num_leaves': 6, 'objective': 'binary', 'learning_rate': 0.05, 'colsample_bytree': 1.0, 'subsample': 0.25, 'metric': 'auc'}\n",
      "{'n_estimators': 1000, 'num_leaves': 2, 'objective': 'binary', 'learning_rate': 0.05, 'colsample_bytree': 0.25, 'subsample': 0.25, 'metric': 'auc'}\n",
      "{'n_estimators': 1000, 'num_leaves': 3, 'objective': 'binary', 'learning_rate': 0.05, 'colsample_bytree': 0.75, 'subsample': 0.25, 'metric': 'auc'}\n",
      "[0.6112750112833022, 0.5910309889576648, 0.6276192753967939, 0.596384531128654, 0.5632067605889531]\n",
      "0.5979033134710736\n"
     ]
    }
   ],
   "source": [
    "import lightgbm as lgb\n",
    "import operator\n",
    "\n",
    "param1 = {'n_estimators':1000, 'num_leaves':12, 'objective':'binary', \n",
    "         'learning_rate': 0.05, 'colsample_bytree': 0.75, 'subsample': 0.75, \n",
    "        'metric': 'auc'}\n",
    "\n",
    "param2 = {'n_estimators':1000, 'num_leaves':2, 'objective':'binary', \n",
    "         'learning_rate': 0.05, 'colsample_bytree': 0.75, 'subsample': 0.75,\n",
    "        'metric': 'auc'}\n",
    "\n",
    "param3 = {'n_estimators':1000, 'num_leaves':4, 'objective':'binary', \n",
    "         'learning_rate': 0.05, 'colsample_bytree': 0.75, 'subsample': 0.75,\n",
    "        'metric': 'auc'}\n",
    "\n",
    "param4 = {'n_estimators':1000, 'num_leaves':6, 'objective':'binary',\n",
    "         'learning_rate': 0.05, 'colsample_bytree': 0.75, 'subsample': 0.75,\n",
    "        'metric': 'auc'}\n",
    "\n",
    "param5 = {'n_estimators':1000, 'num_leaves':3, 'objective':'binary',\n",
    "         'learning_rate': 0.05, 'colsample_bytree': 0.75, 'subsample': 0.75,\n",
    "        'metric': 'auc'}\n",
    "\n",
    "scores = {}\n",
    "for num_leaves in list(range(4, 12, 2)) + list(range(12, 22, 2)):\n",
    "    for colsample_bytree in [0.25, 0.5, 0.75, 1.0]:\n",
    "        for subsample in [0.25, 0.5, 0.75, 1.0]:\n",
    "            param1['num_leaves'] = num_leaves\n",
    "            param1['colsample_bytree'] = colsample_bytree\n",
    "            param1['subsample'] = subsample\n",
    "            scores[(num_leaves, colsample_bytree, subsample)] = cv(param1, X[base_features+features1+impA_features1], y1)\n",
    "    \n",
    "best_param1 = sorted(scores.items(), key=operator.itemgetter(1), reverse=True)[0][0]\n",
    "param1['num_leaves'],param1['colsample_bytree'],param1['subsample'] =  best_param1\n",
    "print(param1)\n",
    "\n",
    "scores = {}\n",
    "for num_leaves in range(2, 22, 2):\n",
    "    for colsample_bytree in [0.25, 0.5, 0.75, 1.0]:\n",
    "        for subsample in [0.25, 0.5, 0.75, 1.0]:\n",
    "            param2['num_leaves'] = num_leaves\n",
    "            param2['colsample_bytree'] = colsample_bytree\n",
    "            param2['subsample'] = subsample\n",
    "            scores[(num_leaves, colsample_bytree, subsample)] = cv(param2, X[base_features+features2+impA_features2], y2)\n",
    "    \n",
    "best_param2 = sorted(scores.items(), key=operator.itemgetter(1), reverse=True)[0][0]\n",
    "param2['num_leaves'],param2['colsample_bytree'],param2['subsample'] =  best_param2\n",
    "print(param2)\n",
    "\n",
    "scores = {}\n",
    "for num_leaves in range(2, 22, 2):\n",
    "    for colsample_bytree in [0.25, 0.5, 0.75, 1.0]:\n",
    "        for subsample in [0.25, 0.5, 0.75, 1.0]:\n",
    "            param3['num_leaves'] = num_leaves\n",
    "            param3['colsample_bytree'] = colsample_bytree\n",
    "            param3['subsample'] = subsample\n",
    "            scores[(num_leaves, colsample_bytree, subsample)] = cv(param3, X[base_features+features3+impA_features3], y3)\n",
    "    \n",
    "best_param3 = sorted(scores.items(), key=operator.itemgetter(1), reverse=True)[0][0]\n",
    "param3['num_leaves'],param3['colsample_bytree'],param3['subsample'] =  best_param3\n",
    "print(param3)\n",
    "\n",
    "scores = {}\n",
    "for num_leaves in range(2, 22, 2):\n",
    "    for colsample_bytree in [0.25, 0.5, 0.75, 1.0]:\n",
    "        for subsample in [0.25, 0.5, 0.75, 1.0]:\n",
    "            param4['num_leaves'] = num_leaves\n",
    "            param4['colsample_bytree'] = colsample_bytree\n",
    "            param4['subsample'] = subsample\n",
    "            scores[(num_leaves, colsample_bytree, subsample)] = cv(param4, X[base_features+features4+impA_features4], y4)\n",
    "    \n",
    "best_param4 = sorted(scores.items(), key=operator.itemgetter(1), reverse=True)[0][0]\n",
    "param4['num_leaves'],param4['colsample_bytree'],param4['subsample'] =  best_param4\n",
    "print(param4)\n",
    "\n",
    "scores = {}\n",
    "for num_leaves in list(range(2, 22, 2)) + [3]:\n",
    "    for colsample_bytree in [0.25, 0.5, 0.75, 1.0]:\n",
    "        for subsample in [0.25, 0.5, 0.75, 1.0]:\n",
    "            param5['num_leaves'] = num_leaves\n",
    "            param5['colsample_bytree'] = colsample_bytree\n",
    "            param5['subsample'] = subsample\n",
    "            scores[(num_leaves, colsample_bytree, subsample)] = cv(param5, X[base_features+features5+impA_features5], y5)\n",
    "    \n",
    "best_param5 = sorted(scores.items(), key=operator.itemgetter(1), reverse=True)[0][0]\n",
    "param5['num_leaves'],param5['colsample_bytree'],param5['subsample'] =  best_param5\n",
    "print(param5)\n",
    "\n",
    "scores = []\n",
    "scores.append(cv(param1, X[base_features+features1+impA_features1], y1))\n",
    "scores.append(cv(param2, X[base_features+features2+impA_features2], y2))\n",
    "scores.append(cv(param3, X[base_features+features3+impA_features3], y3))\n",
    "scores.append(cv(param4, X[base_features+features4+impA_features4], y4))\n",
    "scores.append(cv(param5, X[base_features+features5+impA_features5], y5))\n",
    "\n",
    "print(scores)\n",
    "print(np.mean(scores))"
   ]
  },
  {
   "cell_type": "code",
   "execution_count": 50,
   "metadata": {},
   "outputs": [
    {
     "name": "stdout",
     "output_type": "stream",
     "text": [
      "[0.611167160375956, 0.6231362317196715, 0.6289643759321693, 0.6090848664491574, 0.5991151606187812]\n",
      "0.6142935590191471\n"
     ]
    }
   ],
   "source": [
    "import lightgbm as lgb\n",
    "\n",
    "param1 = {'n_estimators':1000, 'num_leaves':8, 'objective':'binary',\n",
    "         'learning_rate': 0.05, 'colsample_bytree': 0.75, 'subsample': 0.25,\n",
    "        'metric': 'auc'}\n",
    "\n",
    "param2 = {'n_estimators':1000, 'num_leaves':4, 'objective':'binary',\n",
    "         'learning_rate': 0.05, 'colsample_bytree': 0.75, 'subsample': 0.25,\n",
    "        'metric': 'auc'}\n",
    "\n",
    "param3 = {'n_estimators':1000, 'num_leaves':6, 'objective':'binary',\n",
    "         'learning_rate': 0.05, 'colsample_bytree': 0.75, 'subsample': 0.25,\n",
    "        'metric': 'auc'}\n",
    "\n",
    "param4 = {'n_estimators':1000, 'num_leaves':2, 'objective':'binary',\n",
    "         'learning_rate': 0.05, 'colsample_bytree': 0.75, 'subsample': 0.25,\n",
    "        'metric': 'auc'}\n",
    "\n",
    "param5 = {'n_estimators':1000, 'num_leaves':3, 'objective':'binary',\n",
    "         'learning_rate': 0.05, 'colsample_bytree': 0.75, 'subsample': 0.25,\n",
    "        'metric': 'auc'}\n",
    "\n",
    "scores = []\n",
    "scores.append(cv(param1, X[base_features+features1+impA_features1+imp22_features1+imp1_features1+imp13_features1], y1))\n",
    "scores.append(cv(param2, X[base_features+features2+impA_features2+imp22_features2+imp1_features2+imp13_features2], y2))\n",
    "scores.append(cv(param3, X[base_features+features3+impA_features3+imp22_features3+imp1_features3+imp13_features3], y3))\n",
    "scores.append(cv(param4, X[base_features+features4+impA_features4+imp22_features4+imp1_features4+imp13_features4], y4))\n",
    "scores.append(cv(param5, X[base_features+features5+impA_features5+imp22_features5+imp1_features5+imp13_features5], y5))\n",
    "\n",
    "print(scores)\n",
    "print(np.mean(scores))"
   ]
  },
  {
   "cell_type": "code",
   "execution_count": 28,
   "metadata": {},
   "outputs": [
    {
     "name": "stdout",
     "output_type": "stream",
     "text": [
      "[0.6151987165416142, 0.6255375497437743, 0.6294643818197097, 0.6110534107576142, 0.5978287230308484]\n",
      "0.6158165563787121\n"
     ]
    }
   ],
   "source": [
    "import lightgbm as lgb\n",
    "\n",
    "param1 = {'n_estimators':1000, 'num_leaves':8, 'objective':'binary',\n",
    "         'learning_rate': 0.05, 'colsample_bytree': 1.0, 'subsample': 0.25,\n",
    "        'metric': 'auc'}\n",
    "\n",
    "param2 = {'n_estimators':1000, 'num_leaves':4, 'objective':'binary',\n",
    "         'learning_rate': 0.05, 'colsample_bytree': 1.0, 'subsample': 0.25,\n",
    "        'metric': 'auc'}\n",
    "\n",
    "param3 = {'n_estimators':1000, 'num_leaves':6, 'objective':'binary',\n",
    "         'learning_rate': 0.05, 'colsample_bytree': 1.0, 'subsample': 0.25,\n",
    "        'metric': 'auc'}\n",
    "\n",
    "param4 = {'n_estimators':1000, 'num_leaves':2, 'objective':'binary',\n",
    "         'learning_rate': 0.05, 'colsample_bytree': 0.25, 'subsample': 0.25,\n",
    "        'metric': 'auc'}\n",
    "\n",
    "param5 = {'n_estimators':1000, 'num_leaves':3, 'objective':'binary',\n",
    "         'learning_rate': 0.05, 'colsample_bytree': 0.75, 'subsample': 0.25,\n",
    "        'metric': 'auc'}\n",
    "\n",
    "scores = []\n",
    "scores.append(cv(param1, X[base_features+features1+impA_features1], y1))\n",
    "scores.append(cv(param2, X[base_features+features2+impA_features2], y2))\n",
    "scores.append(cv(param3, X[base_features+features3+impA_features3], y3))\n",
    "scores.append(cv(param4, X[base_features+features4+impA_features4], y4))\n",
    "scores.append(cv(param5, X[base_features+features5+impA_features5], y5))\n",
    "\n",
    "print(scores)\n",
    "print(np.mean(scores))"
   ]
  },
  {
   "cell_type": "code",
   "execution_count": 20,
   "metadata": {},
   "outputs": [
    {
     "name": "stderr",
     "output_type": "stream",
     "text": [
      "//anaconda3/lib/python3.7/site-packages/lightgbm/engine.py:430: UserWarning: Found `n_estimators` in params. Will use it instead of argument\n",
      "  warnings.warn(\"Found `{}` in params. Will use it instead of argument\".format(alias))\n"
     ]
    },
    {
     "name": "stdout",
     "output_type": "stream",
     "text": [
      "[0.6117147709189317, 0.6179712744598408, 0.6234963962092699, 0.6062505810001484, 0.5978287230308484]\n",
      "0.6114523491238077\n"
     ]
    }
   ],
   "source": [
    "import lightgbm as lgb\n",
    "\n",
    "param1 = {'n_estimators':1000, 'num_leaves':12, 'objective':'binary',\n",
    "         'learning_rate': 0.05, 'colsample_bytree': 0.75, 'subsample': 0.75,\n",
    "        'metric': 'auc'}\n",
    "\n",
    "param2 = {'n_estimators':1000, 'num_leaves':2, 'objective':'binary',\n",
    "         'learning_rate': 0.05, 'colsample_bytree': 0.75, 'subsample': 0.75,\n",
    "        'metric': 'auc'}\n",
    "\n",
    "param3 = {'n_estimators':1000, 'num_leaves':4, 'objective':'binary',\n",
    "         'learning_rate': 0.05, 'colsample_bytree': 0.75, 'subsample': 0.75,\n",
    "        'metric': 'auc'}\n",
    "\n",
    "param4 = {'n_estimators':1000, 'num_leaves':6, 'objective':'binary',\n",
    "         'learning_rate': 0.05, 'colsample_bytree': 0.75, 'subsample': 0.75,\n",
    "        'metric': 'auc'}\n",
    "\n",
    "param5 = {'n_estimators':1000, 'num_leaves':3, 'objective':'binary',\n",
    "         'learning_rate': 0.05, 'colsample_bytree': 0.75, 'subsample': 0.75,\n",
    "        'metric': 'auc'}\n",
    "\n",
    "scores = []\n",
    "scores.append(cv(param1, X[base_features+features1+impA_features1], y1))\n",
    "scores.append(cv(param2, X[base_features+features2+impA_features2], y2))\n",
    "scores.append(cv(param3, X[base_features+features3+impA_features3], y3))\n",
    "scores.append(cv(param4, X[base_features+features4+impA_features4], y4))\n",
    "scores.append(cv(param5, X[base_features+features5+impA_features5], y5))\n",
    "\n",
    "print(scores)\n",
    "print(np.mean(scores))"
   ]
  },
  {
   "cell_type": "code",
   "execution_count": 11,
   "metadata": {},
   "outputs": [
    {
     "name": "stderr",
     "output_type": "stream",
     "text": [
      "//anaconda3/lib/python3.7/site-packages/lightgbm/engine.py:430: UserWarning: Found `n_estimators` in params. Will use it instead of argument\n",
      "  warnings.warn(\"Found `{}` in params. Will use it instead of argument\".format(alias))\n"
     ]
    },
    {
     "name": "stdout",
     "output_type": "stream",
     "text": [
      "[0.6105549166519464, 0.6178046936747414, 0.6221297335708857, 0.6064613444070113, 0.596969515411341]\n",
      "0.6107840407431852\n"
     ]
    }
   ],
   "source": [
    "import lightgbm as lgb\n",
    "\n",
    "param1 = {'n_estimators':1000, 'num_leaves':12, 'objective':'binary',\n",
    "         'learning_rate': 0.05, 'colsample_bytree': 0.75, 'subsample': 0.75,\n",
    "        'metric': 'auc'}\n",
    "\n",
    "param2 = {'n_estimators':1000, 'num_leaves':2, 'objective':'binary',\n",
    "         'learning_rate': 0.05, 'colsample_bytree': 0.75, 'subsample': 0.75,\n",
    "        'metric': 'auc'}\n",
    "\n",
    "param3 = {'n_estimators':1000, 'num_leaves':4, 'objective':'binary',\n",
    "         'learning_rate': 0.05, 'colsample_bytree': 0.75, 'subsample': 0.75,\n",
    "        'metric': 'auc'}\n",
    "\n",
    "param4 = {'n_estimators':1000, 'num_leaves':6, 'objective':'binary',\n",
    "         'learning_rate': 0.05, 'colsample_bytree': 0.75, 'subsample': 0.75,\n",
    "        'metric': 'auc'}\n",
    "\n",
    "param5 = {'n_estimators':1000, 'num_leaves':3, 'objective':'binary',\n",
    "         'learning_rate': 0.05, 'colsample_bytree': 0.75, 'subsample': 0.75,\n",
    "        'metric': 'auc'}\n",
    "\n",
    "scores = []\n",
    "scores.append(cv(param1, X[base_features+features1+impA_features1+imp12_features1], y1))\n",
    "scores.append(cv(param2, X[base_features+features2+impA_features2+imp12_features2], y2))\n",
    "scores.append(cv(param3, X[base_features+features3+impA_features3+imp12_features3], y3))\n",
    "scores.append(cv(param4, X[base_features+features4+impA_features4+imp12_features4], y4))\n",
    "scores.append(cv(param5, X[base_features+features5+impA_features5+imp12_features5], y5))\n",
    "\n",
    "print(scores)\n",
    "print(np.mean(scores))"
   ]
  },
  {
   "cell_type": "code",
   "execution_count": 10,
   "metadata": {},
   "outputs": [
    {
     "name": "stderr",
     "output_type": "stream",
     "text": [
      "//anaconda3/lib/python3.7/site-packages/lightgbm/engine.py:430: UserWarning: Found `n_estimators` in params. Will use it instead of argument\n",
      "  warnings.warn(\"Found `{}` in params. Will use it instead of argument\".format(alias))\n"
     ]
    },
    {
     "name": "stdout",
     "output_type": "stream",
     "text": [
      "[0.6127034478161006, 0.6192508465619226, 0.6216391078656591, 0.6116328259008149, 0.5968473220520154]\n",
      "0.6124147100393026\n"
     ]
    }
   ],
   "source": [
    "import lightgbm as lgb\n",
    "\n",
    "param1 = {'n_estimators':1000, 'num_leaves':12, 'objective':'binary',\n",
    "         'learning_rate': 0.05, 'colsample_bytree': 0.75, 'subsample': 0.75,\n",
    "        'metric': 'auc'}\n",
    "\n",
    "param2 = {'n_estimators':1000, 'num_leaves':2, 'objective':'binary',\n",
    "         'learning_rate': 0.05, 'colsample_bytree': 0.75, 'subsample': 0.75,\n",
    "        'metric': 'auc'}\n",
    "\n",
    "param3 = {'n_estimators':1000, 'num_leaves':4, 'objective':'binary',\n",
    "         'learning_rate': 0.05, 'colsample_bytree': 0.75, 'subsample': 0.75,\n",
    "        'metric': 'auc'}\n",
    "\n",
    "param4 = {'n_estimators':1000, 'num_leaves':6, 'objective':'binary',\n",
    "         'learning_rate': 0.05, 'colsample_bytree': 0.75, 'subsample': 0.75,\n",
    "        'metric': 'auc'}\n",
    "\n",
    "param5 = {'n_estimators':1000, 'num_leaves':3, 'objective':'binary',\n",
    "         'learning_rate': 0.05, 'colsample_bytree': 0.75, 'subsample': 0.75,\n",
    "        'metric': 'auc'}\n",
    "\n",
    "scores = []\n",
    "scores.append(cv(param1, X[base_features+features1+imp_features1], y1))\n",
    "scores.append(cv(param2, X[base_features+features2+imp_features2], y2))\n",
    "scores.append(cv(param3, X[base_features+features3+imp_features3], y3))\n",
    "scores.append(cv(param4, X[base_features+features4+imp_features4], y4))\n",
    "scores.append(cv(param5, X[base_features+features5+imp_features5], y5))\n",
    "\n",
    "print(scores)\n",
    "print(np.mean(scores))"
   ]
  },
  {
   "cell_type": "code",
   "execution_count": 10,
   "metadata": {},
   "outputs": [
    {
     "name": "stderr",
     "output_type": "stream",
     "text": [
      "//anaconda3/lib/python3.7/site-packages/lightgbm/engine.py:430: UserWarning: Found `n_estimators` in params. Will use it instead of argument\n",
      "  warnings.warn(\"Found `{}` in params. Will use it instead of argument\".format(alias))\n"
     ]
    },
    {
     "name": "stdout",
     "output_type": "stream",
     "text": [
      "[0.6130190380603134, 0.6232312248607247, 0.62373149578957, 0.6092623563089257, 0.5916564107714628]\n",
      "0.6121801051581993\n"
     ]
    }
   ],
   "source": [
    "import lightgbm as lgb\n",
    "\n",
    "param1 = {'n_estimators':1000, 'num_leaves':12, 'objective':'binary',\n",
    "         'learning_rate': 0.05, 'colsample_bytree': 0.75, 'subsample': 0.75,\n",
    "        'metric': 'auc'}\n",
    "\n",
    "param2 = {'n_estimators':1000, 'num_leaves':2, 'objective':'binary',\n",
    "         'learning_rate': 0.05, 'colsample_bytree': 0.75, 'subsample': 0.75,\n",
    "        'metric': 'auc'}\n",
    "\n",
    "param3 = {'n_estimators':1000, 'num_leaves':4, 'objective':'binary',\n",
    "         'learning_rate': 0.05, 'colsample_bytree': 0.75, 'subsample': 0.75,\n",
    "        'metric': 'auc'}\n",
    "\n",
    "param4 = {'n_estimators':1000, 'num_leaves':6, 'objective':'binary',\n",
    "         'learning_rate': 0.05, 'colsample_bytree': 0.75, 'subsample': 0.75,\n",
    "        'metric': 'auc'}\n",
    "\n",
    "param5 = {'n_estimators':1000, 'num_leaves':3, 'objective':'binary',\n",
    "         'learning_rate': 0.05, 'colsample_bytree': 0.75, 'subsample': 0.75,\n",
    "        'metric': 'auc'}\n",
    "\n",
    "scores = []\n",
    "scores.append(cv(param1, X[base_features+features1+imp_features1], y1))\n",
    "scores.append(cv(param2, X[base_features+features2+imp_features2], y2))\n",
    "scores.append(cv(param3, X[base_features+features3+imp_features3], y3))\n",
    "scores.append(cv(param4, X[base_features+features4+imp_features4], y4))\n",
    "scores.append(cv(param5, X[base_features+features5+imp_features5], y5))\n",
    "\n",
    "print(scores)\n",
    "print(np.mean(scores))"
   ]
  },
  {
   "cell_type": "code",
   "execution_count": 18,
   "metadata": {},
   "outputs": [
    {
     "name": "stderr",
     "output_type": "stream",
     "text": [
      "//anaconda3/lib/python3.7/site-packages/lightgbm/engine.py:430: UserWarning: Found `n_estimators` in params. Will use it instead of argument\n",
      "  warnings.warn(\"Found `{}` in params. Will use it instead of argument\".format(alias))\n"
     ]
    },
    {
     "name": "stdout",
     "output_type": "stream",
     "text": [
      "[0.6117147709189317, 0.6179712744598408, 0.6234963962092699, 0.6062505810001484, 0.5978287230308484]\n",
      "0.6114523491238077\n"
     ]
    }
   ],
   "source": [
    "import lightgbm as lgb\n",
    "\n",
    "param1 = {'n_estimators':1000, 'num_leaves':12, 'objective':'binary',\n",
    "         'learning_rate': 0.05, 'colsample_bytree': 0.75, 'subsample': 0.75,\n",
    "        'metric': 'auc'}\n",
    "\n",
    "param2 = {'n_estimators':1000, 'num_leaves':2, 'objective':'binary',\n",
    "         'learning_rate': 0.05, 'colsample_bytree': 0.75, 'subsample': 0.75,\n",
    "        'metric': 'auc'}\n",
    "\n",
    "param3 = {'n_estimators':1000, 'num_leaves':4, 'objective':'binary',\n",
    "         'learning_rate': 0.05, 'colsample_bytree': 0.75, 'subsample': 0.75,\n",
    "        'metric': 'auc'}\n",
    "\n",
    "param4 = {'n_estimators':1000, 'num_leaves':6, 'objective':'binary',\n",
    "         'learning_rate': 0.05, 'colsample_bytree': 0.75, 'subsample': 0.75,\n",
    "        'metric': 'auc'}\n",
    "\n",
    "param5 = {'n_estimators':1000, 'num_leaves':3, 'objective':'binary',\n",
    "         'learning_rate': 0.05, 'colsample_bytree': 0.75, 'subsample': 0.75,\n",
    "        'metric': 'auc'}\n",
    "\n",
    "scores = []\n",
    "scores.append(cv(param1, X[base_features+features1+imp_features1], y1))\n",
    "scores.append(cv(param2, X[base_features+features2+imp_features2], y2))\n",
    "scores.append(cv(param3, X[base_features+features3+imp_features3], y3))\n",
    "scores.append(cv(param4, X[base_features+features4+imp_features4], y4))\n",
    "scores.append(cv(param5, X[base_features+features5+imp_features5], y5))\n",
    "\n",
    "print(scores)\n",
    "print(np.mean(scores))"
   ]
  },
  {
   "cell_type": "code",
   "execution_count": 10,
   "metadata": {},
   "outputs": [
    {
     "name": "stderr",
     "output_type": "stream",
     "text": [
      "//anaconda3/lib/python3.7/site-packages/lightgbm/engine.py:430: UserWarning: Found `n_estimators` in params. Will use it instead of argument\n",
      "  warnings.warn(\"Found `{}` in params. Will use it instead of argument\".format(alias))\n"
     ]
    },
    {
     "name": "stdout",
     "output_type": "stream",
     "text": [
      "[0.6100815230545286, 0.6170958716713599, 0.6308808042155638, 0.603693786195624, 0.5931352309601315]\n",
      "0.6109774432194416\n"
     ]
    }
   ],
   "source": [
    "import lightgbm as lgb\n",
    "\n",
    "param1 = {'n_estimators':1000, 'num_leaves':12, 'objective':'binary',\n",
    "         'learning_rate': 0.05, 'colsample_bytree': 0.75, 'subsample': 0.75,\n",
    "        'metric': 'auc'}\n",
    "\n",
    "param2 = {'n_estimators':1000, 'num_leaves':2, 'objective':'binary',\n",
    "         'learning_rate': 0.05, 'colsample_bytree': 0.75, 'subsample': 0.75,\n",
    "        'metric': 'auc'}\n",
    "\n",
    "param3 = {'n_estimators':1000, 'num_leaves':4, 'objective':'binary',\n",
    "         'learning_rate': 0.05, 'colsample_bytree': 0.75, 'subsample': 0.75,\n",
    "        'metric': 'auc'}\n",
    "\n",
    "param4 = {'n_estimators':1000, 'num_leaves':6, 'objective':'binary',\n",
    "         'learning_rate': 0.05, 'colsample_bytree': 0.75, 'subsample': 0.75,\n",
    "        'metric': 'auc'}\n",
    "\n",
    "param5 = {'n_estimators':1000, 'num_leaves':3, 'objective':'binary',\n",
    "         'learning_rate': 0.05, 'colsample_bytree': 0.75, 'subsample': 0.75,\n",
    "        'metric': 'auc'}\n",
    "\n",
    "scores = []\n",
    "scores.append(cv(param1, X[base_features+features1+imp_features1], y1))\n",
    "scores.append(cv(param2, X[base_features+features2+imp_features2], y2))\n",
    "scores.append(cv(param3, X[base_features+features3+imp_features3], y3))\n",
    "scores.append(cv(param4, X[base_features+features4+imp_features4], y4))\n",
    "scores.append(cv(param5, X[base_features+features5+imp_features5], y5))\n",
    "\n",
    "print(scores)\n",
    "print(np.mean(scores))"
   ]
  },
  {
   "cell_type": "code",
   "execution_count": 9,
   "metadata": {},
   "outputs": [
    {
     "name": "stderr",
     "output_type": "stream",
     "text": [
      "//anaconda3/lib/python3.7/site-packages/lightgbm/engine.py:430: UserWarning: Found `n_estimators` in params. Will use it instead of argument\n",
      "  warnings.warn(\"Found `{}` in params. Will use it instead of argument\".format(alias))\n"
     ]
    },
    {
     "name": "stdout",
     "output_type": "stream",
     "text": [
      "[0.6240259295741233, 0.6139571266389168, 0.6291637769388758, 0.6056379019508451, 0.5808878306542964]\n",
      "0.6107345131514114\n"
     ]
    }
   ],
   "source": [
    "import lightgbm as lgb\n",
    "\n",
    "param1 = {'n_estimators':1000, 'num_leaves':12, 'objective':'binary',\n",
    "         'learning_rate': 0.05, 'colsample_bytree': 0.75, 'subsample': 0.75,\n",
    "        'metric': 'auc'}\n",
    "\n",
    "param2 = {'n_estimators':1000, 'num_leaves':2, 'objective':'binary',\n",
    "         'learning_rate': 0.05, 'colsample_bytree': 0.75, 'subsample': 0.75,\n",
    "        'metric': 'auc'}\n",
    "\n",
    "param3 = {'n_estimators':1000, 'num_leaves':4, 'objective':'binary',\n",
    "         'learning_rate': 0.05, 'colsample_bytree': 0.75, 'subsample': 0.75,\n",
    "        'metric': 'auc'}\n",
    "\n",
    "param4 = {'n_estimators':1000, 'num_leaves':6, 'objective':'binary',\n",
    "         'learning_rate': 0.05, 'colsample_bytree': 0.75, 'subsample': 0.75,\n",
    "        'metric': 'auc'}\n",
    "\n",
    "param5 = {'n_estimators':1000, 'num_leaves':3, 'objective':'binary',\n",
    "         'learning_rate': 0.05, 'colsample_bytree': 0.75, 'subsample': 0.75,\n",
    "        'metric': 'auc'}\n",
    "\n",
    "scores = []\n",
    "scores.append(cv(param1, X[base_features+features1+imp_features1], y1))\n",
    "scores.append(cv(param2, X[base_features+features2+imp_features2], y2))\n",
    "scores.append(cv(param3, X[base_features+features3+imp_features3], y3))\n",
    "scores.append(cv(param4, X[base_features+features4+imp_features4], y4))\n",
    "scores.append(cv(param5, X[base_features+features5+imp_features5], y5))\n",
    "\n",
    "print(scores)\n",
    "print(np.mean(scores))"
   ]
  },
  {
   "cell_type": "code",
   "execution_count": 13,
   "metadata": {},
   "outputs": [
    {
     "name": "stdout",
     "output_type": "stream",
     "text": [
      "[0.6095421349473995, 0.5995572731129474, 0.6302295279036401, 0.6038930272663179, 0.5630446440530276]\n",
      "0.6012533214566664\n"
     ]
    }
   ],
   "source": [
    "import lightgbm as lgb\n",
    "\n",
    "param1 = {'n_estimators':1000, 'num_leaves':6, 'objective':'binary',\n",
    "         'learning_rate': 0.05, 'colsample_bytree': 0.75, 'subsample': 0.75,\n",
    "        'metric': 'auc'}\n",
    "\n",
    "param2 = {'n_estimators':1000, 'num_leaves':2, 'objective':'binary',\n",
    "         'learning_rate': 0.05, 'colsample_bytree': 0.75, 'subsample': 0.75,\n",
    "        'metric': 'auc'}\n",
    "\n",
    "param3 = {'n_estimators':1000, 'num_leaves':4, 'objective':'binary',\n",
    "         'learning_rate': 0.05, 'colsample_bytree': 0.75, 'subsample': 0.75,\n",
    "        'metric': 'auc'}\n",
    "\n",
    "param4 = {'n_estimators':1000, 'num_leaves':6, 'objective':'binary',\n",
    "         'learning_rate': 0.05, 'colsample_bytree': 0.75, 'subsample': 0.75,\n",
    "        'metric': 'auc'}\n",
    "\n",
    "param5 = {'n_estimators':1000, 'num_leaves':3, 'objective':'binary',\n",
    "         'learning_rate': 0.05, 'colsample_bytree': 0.75, 'subsample': 0.75,\n",
    "        'metric': 'auc'}\n",
    "\n",
    "scores = []\n",
    "scores.append(cv(param1, X, y1))\n",
    "scores.append(cv(param2, X, y2))\n",
    "scores.append(cv(param3, X, y3))\n",
    "scores.append(cv(param4, X, y4))\n",
    "scores.append(cv(param5, X, y5))\n",
    "\n",
    "print(scores)\n",
    "print(np.mean(scores))"
   ]
  },
  {
   "cell_type": "code",
   "execution_count": 25,
   "metadata": {},
   "outputs": [
    {
     "name": "stderr",
     "output_type": "stream",
     "text": [
      "//anaconda3/lib/python3.7/site-packages/lightgbm/engine.py:430: UserWarning: Found `n_estimators` in params. Will use it instead of argument\n",
      "  warnings.warn(\"Found `{}` in params. Will use it instead of argument\".format(alias))\n"
     ]
    },
    {
     "name": "stdout",
     "output_type": "stream",
     "text": [
      "[0.6127615196443195, 0.607955257784282, 0.6285061161569343, 0.6008382052167156, 0.5635839587795958]\n",
      "0.6027290115163695\n"
     ]
    }
   ],
   "source": [
    "import lightgbm as lgb\n",
    "\n",
    "param1 = {'n_estimators':1000, 'num_leaves':12, 'objective':'binary',\n",
    "         'learning_rate': 0.05, 'colsample_bytree': 0.75, 'subsample': 0.75,\n",
    "        'metric': 'auc'}\n",
    "\n",
    "param2 = {'n_estimators':1000, 'num_leaves':2, 'objective':'binary',\n",
    "         'learning_rate': 0.05, 'colsample_bytree': 0.75, 'subsample': 0.75,\n",
    "        'metric': 'auc'}\n",
    "\n",
    "param3 = {'n_estimators':1000, 'num_leaves':4, 'objective':'binary',\n",
    "         'learning_rate': 0.05, 'colsample_bytree': 0.75, 'subsample': 0.75,\n",
    "        'metric': 'auc'}\n",
    "\n",
    "param4 = {'n_estimators':1000, 'num_leaves':6, 'objective':'binary',\n",
    "         'learning_rate': 0.05, 'colsample_bytree': 0.75, 'subsample': 0.75,\n",
    "        'metric': 'auc'}\n",
    "\n",
    "param5 = {'n_estimators':1000, 'num_leaves':3, 'objective':'binary',\n",
    "         'learning_rate': 0.05, 'colsample_bytree': 0.75, 'subsample': 0.75,\n",
    "        'metric': 'auc'}\n",
    "\n",
    "scores = []\n",
    "scores.append(cv(param1, X[base_features+features1], y1))\n",
    "scores.append(cv(param2, X[base_features+features2], y2))\n",
    "scores.append(cv(param3, X[base_features+features3], y3))\n",
    "scores.append(cv(param4, X[base_features+features4], y4))\n",
    "scores.append(cv(param5, X[base_features+features5], y5))\n",
    "\n",
    "print(scores)\n",
    "print(np.mean(scores))"
   ]
  },
  {
   "cell_type": "code",
   "execution_count": 9,
   "metadata": {},
   "outputs": [
    {
     "name": "stderr",
     "output_type": "stream",
     "text": [
      "//anaconda3/lib/python3.7/site-packages/lightgbm/engine.py:430: UserWarning: Found `n_estimators` in params. Will use it instead of argument\n",
      "  warnings.warn(\"Found `{}` in params. Will use it instead of argument\".format(alias))\n"
     ]
    },
    {
     "name": "stdout",
     "output_type": "stream",
     "text": [
      "[0.602379846937974, 0.5985401504911753, 0.6241238424504244, 0.6040459367879308, 0.5572908157669137]\n",
      "0.5972761184868837\n"
     ]
    }
   ],
   "source": [
    "import lightgbm as lgb\n",
    "\n",
    "param1 = {'n_estimators':1000, 'num_leaves':6, 'objective':'binary',\n",
    "         'learning_rate': 0.05, 'colsample_bytree': 0.75, 'subsample': 0.75,\n",
    "        'metric': 'auc'}\n",
    "\n",
    "param2 = {'n_estimators':1000, 'num_leaves':2, 'objective':'binary',\n",
    "         'learning_rate': 0.05, 'colsample_bytree': 0.75, 'subsample': 0.75,\n",
    "        'metric': 'auc'}\n",
    "\n",
    "param3 = {'n_estimators':1000, 'num_leaves':4, 'objective':'binary',\n",
    "         'learning_rate': 0.05, 'colsample_bytree': 0.75, 'subsample': 0.75,\n",
    "        'metric': 'auc'}\n",
    "\n",
    "param4 = {'n_estimators':1000, 'num_leaves':6, 'objective':'binary',\n",
    "         'learning_rate': 0.05, 'colsample_bytree': 0.75, 'subsample': 0.75,\n",
    "        'metric': 'auc'}\n",
    "\n",
    "param5 = {'n_estimators':1000, 'num_leaves':3, 'objective':'binary',\n",
    "         'learning_rate': 0.05, 'colsample_bytree': 0.75, 'subsample': 0.75,\n",
    "        'metric': 'auc'}\n",
    "\n",
    "scores = []\n",
    "scores.append(cv(param1, X, y1))\n",
    "scores.append(cv(param2, X, y2))\n",
    "scores.append(cv(param3, X, y3))\n",
    "scores.append(cv(param4, X, y4))\n",
    "scores.append(cv(param5, X, y5))\n",
    "\n",
    "print(scores)\n",
    "print(np.mean(scores))"
   ]
  },
  {
   "cell_type": "code",
   "execution_count": 11,
   "metadata": {},
   "outputs": [
    {
     "name": "stdout",
     "output_type": "stream",
     "text": [
      "[0.6106547050951469, 0.6018860071093031, 0.6169896178202073, 0.608072115564023, 0.5549038222792463]\n",
      "0.5985012535735852\n"
     ]
    }
   ],
   "source": [
    "param1 = {'n_estimators':290, 'num_leaves':6, 'objective':'binary',\n",
    "         'learning_rate': 0.01, 'colsample_bytree': 0.75, 'subsample': 0.75,\n",
    "        'metric': 'auc'}\n",
    "\n",
    "param2 = {'n_estimators':378, 'num_leaves':2, 'objective':'binary',\n",
    "         'learning_rate': 0.03, 'colsample_bytree': 0.75, 'subsample': 0.75,\n",
    "        'metric': 'auc'}\n",
    "\n",
    "param3 = {'n_estimators':543, 'num_leaves':4, 'objective':'binary',\n",
    "         'learning_rate': 0.01, 'colsample_bytree': 0.75, 'subsample': 0.75,\n",
    "        'metric': 'auc'}\n",
    "\n",
    "param4 = {'n_estimators':618, 'num_leaves':6, 'objective':'binary',\n",
    "         'learning_rate': 0.003, 'colsample_bytree': 0.75, 'subsample': 0.75,\n",
    "        'metric': 'auc'}\n",
    "\n",
    "param5 = {'n_estimators':516, 'num_leaves':3, 'objective':'binary',\n",
    "         'learning_rate': 0.002, 'colsample_bytree': 0.75, 'subsample': 0.75,\n",
    "        'metric': 'auc'}\n",
    "\n",
    "scores = []\n",
    "scores.append(cv_default(param1, X, y1))\n",
    "scores.append(cv_default(param2, X, y2))\n",
    "scores.append(cv_default(param3, X, y3))\n",
    "scores.append(cv_default(param4, X, y4))\n",
    "scores.append(cv_default(param5, X, y5))\n",
    "\n",
    "print(scores)\n",
    "print(np.mean(scores))"
   ]
  },
  {
   "cell_type": "code",
   "execution_count": 10,
   "metadata": {},
   "outputs": [
    {
     "data": {
      "text/plain": [
       "[<matplotlib.lines.Line2D at 0x7f5ff9b9ddd8>]"
      ]
     },
     "execution_count": 10,
     "metadata": {},
     "output_type": "execute_result"
    },
    {
     "data": {
      "image/png": "[encoded data removed]",
      "text/plain": [
       "<Figure size 432x288 with 1 Axes>"
      ]
     },
     "metadata": {
      "needs_background": "light"
     },
     "output_type": "display_data"
    }
   ],
   "source": [
    "plt.plot(w['auc-mean'])"
   ]
  },
  {
   "cell_type": "markdown",
   "metadata": {},
   "source": [
    "# Подготовка ответа"
   ]
  },
  {
   "cell_type": "code",
   "execution_count": 54,
   "metadata": {},
   "outputs": [],
   "source": [
    "param1_final = param1.copy()\n",
    "param1_final['n_estimators']= 290\n",
    "param1_final['learning_rate'] = 0.01\n",
    "\n",
    "a1 = 0.0\n",
    "for t in range(10):\n",
    "    model1 = lgb.LGBMClassifier(**param1_final, random_state=t, n_jobs=-1)\n",
    "    model1.fit(X[base_features + features1 + impA_features1+imp22_features1+imp1_features1+imp13_features1], y1)\n",
    "    a = model1.predict_proba(X_test[base_features + features1 + impA_features1+imp22_features1+imp1_features1+imp13_features1])[:,1]\n",
    "    # print (a)\n",
    "    a1 += a\n",
    "a1 = a1 / 10"
   ]
  },
  {
   "cell_type": "code",
   "execution_count": 55,
   "metadata": {},
   "outputs": [],
   "source": [
    "param2_final = param1.copy()\n",
    "param2_final['n_estimators']= 378\n",
    "param2_final['learning_rate'] = 0.03\n",
    "\n",
    "a2 = 0.0\n",
    "for t in range(10):\n",
    "    model2 = lgb.LGBMClassifier(**param2_final, random_state=t, n_jobs=-1)\n",
    "    model2.fit(X[base_features + features2 + impA_features2+imp22_features2+imp1_features2+imp13_features2], y2)\n",
    "    a = model2.predict_proba(X_test[base_features + features2 + impA_features2+imp22_features2+imp1_features2+imp13_features2])[:,1]\n",
    "    a2 += a\n",
    "a2 = a2 / 10"
   ]
  },
  {
   "cell_type": "code",
   "execution_count": 56,
   "metadata": {},
   "outputs": [],
   "source": [
    "param3_final = param1.copy()\n",
    "param3_final['n_estimators']= 543\n",
    "param3_final['learning_rate'] = 0.01\n",
    "\n",
    "a3 = 0.0\n",
    "for t in range(10):\n",
    "    model3 = lgb.LGBMClassifier(**param3_final, random_state=t, n_jobs=-1)\n",
    "    model3.fit(X[base_features + features3 + impA_features3+imp22_features3+imp1_features3+imp13_features3], y3)\n",
    "    a = model3.predict_proba(X_test[base_features + features3 + impA_features3+imp22_features3+imp1_features3+imp13_features3])[:,1]\n",
    "    a3 += a\n",
    "a3 = a3 / 10"
   ]
  },
  {
   "cell_type": "code",
   "execution_count": 57,
   "metadata": {},
   "outputs": [],
   "source": [
    "param4_final = param1.copy()\n",
    "param4_final['n_estimators']= 618\n",
    "param4_final['learning_rate'] = 0.003\n",
    "\n",
    "a4 = 0.0\n",
    "for t in range(10):\n",
    "    model4 = lgb.LGBMClassifier(**param4_final, random_state=t, n_jobs=-1)\n",
    "    model4.fit(X[base_features + features4 + impA_features4+imp22_features4+imp1_features4+imp13_features4], y4)\n",
    "    a = model4.predict_proba(X_test[base_features + features4 + impA_features4+imp22_features4+imp1_features4+imp13_features4])[:,1]\n",
    "    a4 += a\n",
    "a4 = a4 / 10"
   ]
  },
  {
   "cell_type": "code",
   "execution_count": 58,
   "metadata": {},
   "outputs": [],
   "source": [
    "param5_final = param1.copy()\n",
    "param5_final['n_estimators']= 516\n",
    "param5_final['learning_rate'] = 0.002\n",
    "\n",
    "a5 = 0.0\n",
    "for t in range(10):\n",
    "    model5 = lgb.LGBMClassifier(**param5_final, random_state=t, n_jobs=-1)\n",
    "    model5.fit(X[base_features + features5 + impA_features5+imp22_features5+imp1_features5+imp13_features5], y5)\n",
    "    a = model5.predict_proba(X_test[base_features + features5 + impA_features5+imp22_features5+imp1_features5+imp13_features5])[:,1]\n",
    "    #print (a)\n",
    "    a5 += a\n",
    "a5 = a5 / 10"
   ]
  },
  {
   "cell_type": "code",
   "execution_count": 59,
   "metadata": {
    "scrolled": true
   },
   "outputs": [
    {
     "data": {
      "text/html": [
       "<div>\n",
       "<style scoped>\n",
       "    .dataframe tbody tr th:only-of-type {\n",
       "        vertical-align: middle;\n",
       "    }\n",
       "\n",
       "    .dataframe tbody tr th {\n",
       "        vertical-align: top;\n",
       "    }\n",
       "\n",
       "    .dataframe thead th {\n",
       "        text-align: right;\n",
       "    }\n",
       "</style>\n",
       "<table border=\"1\" class=\"dataframe\">\n",
       "  <thead>\n",
       "    <tr style=\"text-align: right;\">\n",
       "      <th></th>\n",
       "      <th>id</th>\n",
       "      <th>1</th>\n",
       "      <th>2</th>\n",
       "      <th>3</th>\n",
       "      <th>4</th>\n",
       "      <th>5</th>\n",
       "    </tr>\n",
       "  </thead>\n",
       "  <tbody>\n",
       "    <tr>\n",
       "      <th>0</th>\n",
       "      <td>0</td>\n",
       "      <td>0.363210</td>\n",
       "      <td>0.205448</td>\n",
       "      <td>0.241331</td>\n",
       "      <td>0.276296</td>\n",
       "      <td>0.467333</td>\n",
       "    </tr>\n",
       "    <tr>\n",
       "      <th>1</th>\n",
       "      <td>1</td>\n",
       "      <td>0.311129</td>\n",
       "      <td>0.117546</td>\n",
       "      <td>0.303775</td>\n",
       "      <td>0.253816</td>\n",
       "      <td>0.428307</td>\n",
       "    </tr>\n",
       "    <tr>\n",
       "      <th>2</th>\n",
       "      <td>2</td>\n",
       "      <td>0.398452</td>\n",
       "      <td>0.365771</td>\n",
       "      <td>0.227431</td>\n",
       "      <td>0.254291</td>\n",
       "      <td>0.396635</td>\n",
       "    </tr>\n",
       "    <tr>\n",
       "      <th>3</th>\n",
       "      <td>4</td>\n",
       "      <td>0.268858</td>\n",
       "      <td>0.217250</td>\n",
       "      <td>0.238411</td>\n",
       "      <td>0.252173</td>\n",
       "      <td>0.443656</td>\n",
       "    </tr>\n",
       "    <tr>\n",
       "      <th>4</th>\n",
       "      <td>7</td>\n",
       "      <td>0.343752</td>\n",
       "      <td>0.128236</td>\n",
       "      <td>0.566166</td>\n",
       "      <td>0.300778</td>\n",
       "      <td>0.401555</td>\n",
       "    </tr>\n",
       "  </tbody>\n",
       "</table>\n",
       "</div>"
      ],
      "text/plain": [
       "   id         1         2         3         4         5\n",
       "0   0  0.363210  0.205448  0.241331  0.276296  0.467333\n",
       "1   1  0.311129  0.117546  0.303775  0.253816  0.428307\n",
       "2   2  0.398452  0.365771  0.227431  0.254291  0.396635\n",
       "3   4  0.268858  0.217250  0.238411  0.252173  0.443656\n",
       "4   7  0.343752  0.128236  0.566166  0.300778  0.401555"
      ]
     },
     "execution_count": 59,
     "metadata": {},
     "output_type": "execute_result"
    }
   ],
   "source": [
    "df = pd.DataFrame({'id': X1_test.id.values,\n",
    "             '1': a1,\n",
    "             '2': a2,\n",
    "             '3': a3,\n",
    "             '4': a4,\n",
    "             '5': a5})\n",
    "df.to_csv('with_1_22_13_prev_colsample_0.75.csv', index=False)\n",
    "df.head()"
   ]
  }
 ],
 "metadata": {
  "kernelspec": {
   "display_name": "Python 3",
   "language": "python",
   "name": "python3"
  },
  "language_info": {
   "codemirror_mode": {
    "name": "ipython",
    "version": 3
   },
   "file_extension": ".py",
   "mimetype": "text/x-python",
   "name": "python",
   "nbconvert_exporter": "python",
   "pygments_lexer": "ipython3",
   "version": "3.7.3"
  }
 },
 "nbformat": 4,
 "nbformat_minor": 2
}
